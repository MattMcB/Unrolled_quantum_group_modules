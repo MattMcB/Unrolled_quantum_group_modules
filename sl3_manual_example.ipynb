{
 "cells": [
  {
   "cell_type": "code",
   "execution_count": 22,
   "id": "d99c37fb",
   "metadata": {},
   "outputs": [],
   "source": [
    "from sage.algebras import quantum_groups"
   ]
  },
  {
   "cell_type": "code",
   "execution_count": 8,
   "id": "5f86019e",
   "metadata": {},
   "outputs": [
    {
     "data": {
      "text/plain": [
       "q"
      ]
     },
     "execution_count": 8,
     "metadata": {},
     "output_type": "execute_result"
    }
   ],
   "source": [
    "k.<q> = CyclotomicField(5)"
   ]
  },
  {
   "cell_type": "code",
   "execution_count": 72,
   "id": "7f6cbddc",
   "metadata": {},
   "outputs": [
    {
     "data": {
      "text/plain": [
       "0*v0"
      ]
     },
     "execution_count": 72,
     "metadata": {},
     "output_type": "execute_result"
    }
   ],
   "source": [
    "#example of quantum sl3 acting on a Verma module with weight (1,0,0)\n",
    "Q = QuantumGroup(['A',3])\n",
    "B = Q.lower_half()\n",
    "V = Q.highest_weight_module([1,0,0])\n",
    "F1, F2 = Q.F_simple()\n",
    "q = Q.q()\n",
    "B = Q.lower_half()\n",
    "x = B(q^-2*F1*F2^2*F1) #random element of Uq(sl3)\n",
    "v = V.highest_weight_vector() #random element of M_(1,0,0)\n",
    "x.lift() * v    #in order to interpret this as an action of unrolled quantum group,\n",
    "                #just need to cancel down any factors of E^r and F^r"
   ]
  },
  {
   "cell_type": "code",
   "execution_count": 71,
   "id": "cd49cb76",
   "metadata": {},
   "outputs": [
    {
     "data": {
      "text/plain": [
       "0*v0"
      ]
     },
     "execution_count": 71,
     "metadata": {},
     "output_type": "execute_result"
    }
   ],
   "source": []
  },
  {
   "cell_type": "code",
   "execution_count": 62,
   "id": "ca574f04",
   "metadata": {},
   "outputs": [],
   "source": []
  },
  {
   "cell_type": "code",
   "execution_count": null,
   "id": "e426a3f0",
   "metadata": {},
   "outputs": [],
   "source": []
  }
 ],
 "metadata": {
  "kernelspec": {
   "display_name": "SageMath 9.7",
   "language": "sage",
   "name": "sagemath-9.7"
  },
  "language_info": {
   "codemirror_mode": {
    "name": "ipython",
    "version": 3
   },
   "file_extension": ".py",
   "mimetype": "text/x-python",
   "name": "python",
   "nbconvert_exporter": "python",
   "pygments_lexer": "ipython3",
   "version": "3.10.5"
  }
 },
 "nbformat": 4,
 "nbformat_minor": 5
}
